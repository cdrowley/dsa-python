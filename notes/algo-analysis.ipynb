{
 "cells": [
  {
   "cell_type": "markdown",
   "source": [
    "# Algorithm Analysis & Big-O Notation"
   ],
   "metadata": {}
  },
  {
   "cell_type": "markdown",
   "source": [
    "## Benchmarking (comparing functions / algorithms execution time & memory use)"
   ],
   "metadata": {}
  },
  {
   "cell_type": "markdown",
   "source": [
    "When two programs solve the same problem but look different, is one program better than the other?\r\n",
    "\r\n",
    "In order to answer this question, we need to remember that there is an important difference between a program and the underlying algorithm that the program is representing.\r\n",
    "\r\n",
    "An algorithm is a generic, step-by-step list of instructions for solving a problem. It is a method for solving any instance of the problem such that given a particular input, the algorithm produces the desired result. A program, on the other hand, is an algorithm that has been encoded into some programming language.\r\n",
    "\r\n",
    "Algorithm analysis is concerned with comparing algorithms based upon the amount of computing resources that each algorithm uses. We want to be able to consider two algorithms and say that one is better than the other because it is more efficient in its use of those resources or perhaps because it simply uses fewer."
   ],
   "metadata": {}
  },
  {
   "cell_type": "code",
   "execution_count": null,
   "source": [
    "import time\r\n",
    "\r\n",
    "\r\n",
    "def timeit(func):\r\n",
    "    def timed(*args, **kwargs):\r\n",
    "        start = time.time()\r\n",
    "        result = func(*args, **kwargs)\r\n",
    "        end = time.time()\r\n",
    "\r\n",
    "        # print(\r\n",
    "        #     \"func:%r args:[%r, %r] took: %2.4f sec\"\r\n",
    "        #     % (func.__name__,  args, kwargs, end - start)\r\n",
    "        # )\r\n",
    "\r\n",
    "        print(\"func:%r took: %2.4f sec\"% (func.__name__,  end - start))\r\n",
    "        return result\r\n",
    "\r\n",
    "    return timed"
   ],
   "outputs": [],
   "metadata": {}
  },
  {
   "cell_type": "code",
   "execution_count": null,
   "source": [
    "@timeit\r\n",
    "def naive_sum(n):\r\n",
    "    total = 0\r\n",
    "    for i in range(1, n + 1):\r\n",
    "        total += i\r\n",
    "    return total\r\n",
    "\r\n",
    "\r\n",
    "@timeit\r\n",
    "def equation_sum(n):\r\n",
    "    return (n * (n + 1)) / 2\r\n",
    "\r\n",
    "\r\n",
    "for _ in range(5):\r\n",
    "    naive_sum(10_000_000)\r\n",
    "    \r\n",
    "for _ in range(5):\r\n",
    "    equation_sum(10_000_000)"
   ],
   "outputs": [],
   "metadata": {}
  },
  {
   "cell_type": "markdown",
   "source": [
    "### Self-Check\r\n",
    "\r\n",
    "Write two Python functions to find the minimum number in a list. The first function should compare each number to every other number on the list. O(n2). The second function should be linear O(n)."
   ],
   "metadata": {}
  },
  {
   "cell_type": "code",
   "execution_count": null,
   "source": [
    "@timeit\r\n",
    "def findMin_On2(nums): # obviously a terrible approach but shows a O^2 (quadratic) algorithm\r\n",
    "    current_min = nums[0]\r\n",
    "    for i in nums:\r\n",
    "        is_smallest = True\r\n",
    "        for j in nums:\r\n",
    "            if i > j:\r\n",
    "                is_smallest = False\r\n",
    "        if is_smallest:\r\n",
    "            current_min = i\r\n",
    "    return current_min\r\n",
    "\r\n",
    "\r\n",
    "@timeit\r\n",
    "def findMin_On(nums): # a linear function that depends on the length of the list\r\n",
    "    current_min = nums[0]\r\n",
    "    for num in nums[1:]:\r\n",
    "        if num < current_min:\r\n",
    "            current_min = num\r\n",
    "    return current_min\r\n",
    "\r\n",
    "\r\n",
    "def rsum(numbers):\r\n",
    "    if not numbers:\r\n",
    "        return 0\r\n",
    "    return numbers[0] + rsum(numbers[1:])\r\n",
    "\r\n",
    "\r\n",
    "from random import randrange\r\n",
    "\r\n",
    "for listSize in range(2000, 10_001, 2000):\r\n",
    "    alist = [randrange(10_000) for _ in range(listSize)]\r\n",
    "    #print(findMin_On(alist))\r\n",
    "    #print(findMin_On2(alist))\r\n",
    "    #print(min(alist))"
   ],
   "outputs": [],
   "metadata": {}
  },
  {
   "cell_type": "code",
   "execution_count": null,
   "source": [
    "#nums = [randrange(10_000) for _ in range(10)]\r\n",
    "nums = [5019, 2997, 5983, 142, 7380, 717, 5221, 9519, 9587, 2392]\r\n",
    "\r\n",
    "maxVal = nums[0]\r\n",
    "for i in range(0, len(nums), 1):\r\n",
    "    if maxVal < nums[i]:\r\n",
    "        maxVal = nums[i]\r\n",
    "        \r\n",
    "for num in nums:\r\n",
    "    maxVal = max(maxVal, num)\r\n",
    "\r\n",
    "print(maxVal)"
   ],
   "outputs": [],
   "metadata": {}
  },
  {
   "cell_type": "markdown",
   "source": [
    "## Big-O Anagram Detection Example "
   ],
   "metadata": {}
  },
  {
   "cell_type": "markdown",
   "source": [
    "![Big-O-Notation](img\\bigO.png) ![Big-O-Graphed](img\\bigOgraphed.png)"
   ],
   "metadata": {}
  },
  {
   "cell_type": "markdown",
   "source": [
    "A good example problem for showing algorithms with different orders of magnitude is the classic anagram detection problem for strings. One string is an anagram of another if the second is simply a rearrangement of the first. For example, 'heart' and 'earth' are anagrams."
   ],
   "metadata": {}
  },
  {
   "cell_type": "code",
   "execution_count": 3,
   "source": [
    "def anagram_On2(s1, s2): # Checking off\r\n",
    "    if len(s1) != len(s2):\r\n",
    "        return False\r\n",
    "\r\n",
    "    l2 = list(s2)\r\n",
    "    idx1 = 0\r\n",
    "    is_anagram = True\r\n",
    "    \r\n",
    "    while idx1 < len(s1) and is_anagram:\r\n",
    "        idx2 = 0\r\n",
    "        found = False\r\n",
    "        while idx2 < len(s2) and not found:\r\n",
    "            if s1[idx1] == l2[idx2]:\r\n",
    "                found = True\r\n",
    "            else:\r\n",
    "                idx2 += 1\r\n",
    "        if found:\r\n",
    "            l2[idx2] = False\r\n",
    "        else:\r\n",
    "            is_anagram = False            \r\n",
    "        idx1 += 1\r\n",
    "    \r\n",
    "    return is_anagram\r\n",
    "\r\n",
    "def my_anagram_On2(s1, s2): # 2 + n + n^2 + n^2 = 2n^2 + n + 2 = O(n^2)\r\n",
    "    if len(s1) != len(s2):\r\n",
    "        return False\r\n",
    "    \r\n",
    "    n = len(s1) # countdown checkoffs\r\n",
    "    l2 = list(s2)\r\n",
    "    \r\n",
    "    for c1 in s1: # n\r\n",
    "        for i in range(len(s1)): # n^2\r\n",
    "            if c1 == l2[i]: # n^2\r\n",
    "                l2[i] = None # (0 to n^2) check off\r\n",
    "                n -= 1  # n^2 - remove from count\r\n",
    "                break # found 1, move to next\r\n",
    "    return n == 0 # found all needed matches\r\n",
    "\r\n",
    "\r\n",
    "\r\n",
    "def better_anagram(s1, s2): # at first glance it may appear to be O(n), however using .sort() is n log n\r\n",
    "    if len(s1) != len(s2):\r\n",
    "        return False\r\n",
    "\r\n",
    "    l1, l2 = list(s1), list(s2)\r\n",
    "    l1.sort()\r\n",
    "    l2.sort()\r\n",
    "    \r\n",
    "    idx = 0\r\n",
    "    is_anagram = True\r\n",
    "    \r\n",
    "    while idx < len(s1) and is_anagram:\r\n",
    "        if l1[idx] == l2[idx]:\r\n",
    "            idx += 1\r\n",
    "        else:\r\n",
    "            is_anagram = False\r\n",
    "    return is_anagram\r\n",
    "\r\n",
    "\r\n",
    "# Brute force would be unfeasible here as the length of string increases.\r\n",
    "# There would be n! as there are n possible first characters, n-1 possible second characters, n-2 for the third character and so on.\r\n",
    "# Although there may be duplicates the program would not know that ahead of time sou would still generate n! strings.\r\n",
    "# If s1 were 20 characters long there would be 20! = 2,432,902,008,176,640,000 possible candidates. Processing one a second would still require 77,146,816,596 years to complete."
   ],
   "outputs": [],
   "metadata": {}
  },
  {
   "cell_type": "markdown",
   "source": [
    "Our final solution to the anagram problem takes advantage of the fact that any two anagrams will have the same number of a's, the same number of b's, the same number of c's, and so on. \r\n",
    "\r\n",
    "In order to decide whether two strings are anagrams, we will first count the number of times each character occurs. \r\n",
    "\r\n",
    "Since there are 26 possible characters, we can use a list of 26 counters, one for each possible character. \r\n",
    "\r\n",
    "Each time we see a particular character, we will increment the counter at that position. \r\n",
    "\r\n",
    "In the end, if the two lists of counters are identical, the strings must be anagrams."
   ],
   "metadata": {}
  },
  {
   "cell_type": "code",
   "execution_count": 4,
   "source": [
    "def anagram_On(s1, s2): ## TODO generalise this for comparing any number of strings\r\n",
    "    if len(s1) != len(s2):\r\n",
    "        return False\r\n",
    "    \r\n",
    "    c1, c2 = [0]*26, [0]*26  # this could be a dictionary i.e. {'a': 0, 'b':1, ...}\r\n",
    "    \r\n",
    "    for i in range(len(s1)):\r\n",
    "        idx = ord(s1[i]) - ord('a')\r\n",
    "        c1[idx] += 1\r\n",
    "    \r\n",
    "    for i in range(len(s2)):\r\n",
    "        idx = ord(s2[i]) - ord('a')\r\n",
    "        c2[idx] += 1\r\n",
    "        \r\n",
    "    j = 0\r\n",
    "    is_anagram = True\r\n",
    "    \r\n",
    "    while j < 26 and is_anagram:\r\n",
    "        if c1[j] == c2[j]:\r\n",
    "            j += 1\r\n",
    "        else:\r\n",
    "            is_anagram = False\r\n",
    "\r\n",
    "    return is_anagram\r\n",
    "\r\n",
    "from collections import Counter\r\n",
    "\r\n",
    "def simpler_anagram_On(s1, s2):\r\n",
    "    return Counter(s1) == Counter(s2) if len(s1) == len(s2) else False"
   ],
   "outputs": [],
   "metadata": {}
  },
  {
   "cell_type": "code",
   "execution_count": 5,
   "source": [
    "tests = [('abca', 'abca'), ('bac', 'abc'), ('bac', 'abcd'), ('cabb', 'abca')]\r\n",
    "expected_results = [True, True, False, False]\r\n",
    "functions = [anagram_On2, better_anagram, anagram_On, simpler_anagram_On]\r\n",
    "\r\n",
    "\r\n",
    "for test, expected_result in zip(tests, expected_results):\r\n",
    "    for function in functions:\r\n",
    "        result = function(*test)\r\n",
    "        print(result == expected_result)"
   ],
   "outputs": [
    {
     "output_type": "stream",
     "name": "stdout",
     "text": [
      "True\n",
      "True\n",
      "True\n",
      "True\n",
      "True\n",
      "True\n",
      "True\n",
      "True\n",
      "True\n",
      "True\n",
      "True\n",
      "True\n",
      "True\n",
      "True\n",
      "True\n",
      "True\n"
     ]
    }
   ],
   "metadata": {}
  },
  {
   "cell_type": "markdown",
   "source": [
    "### Self-Check"
   ],
   "metadata": {}
  },
  {
   "cell_type": "code",
   "execution_count": null,
   "source": [
    "n = 10 # can generally ignore constant values\r\n",
    "\r\n",
    "\r\n",
    "# A singly nested loop like this is O(n^2).\r\n",
    "test = 0\r\n",
    "for i in range(n):\r\n",
    "   for j in range(n):\r\n",
    "      test += i * j\r\n",
    "\r\n",
    "\r\n",
    "# Despite having two loops, this is still ony O(n) (O(2n) but we can ignore the constant).\r\n",
    "test = 0\r\n",
    "for i in range(n):\r\n",
    "   test += 1\r\n",
    "\r\n",
    "for j in range(n):\r\n",
    "   test -= 1\r\n",
    "\r\n",
    "\r\n",
    "# The value of i is cut in half each time through the loop so it will only take log n iterations.\r\n",
    "i = n\r\n",
    "while i > 0:\r\n",
    "   k = 2 + 2\r\n",
    "   i = i // 2"
   ],
   "outputs": [],
   "metadata": {}
  },
  {
   "cell_type": "markdown",
   "source": [
    "## Performance of Python Data Structures"
   ],
   "metadata": {}
  },
  {
   "cell_type": "markdown",
   "source": [
    "https://runestone.academy/runestone/books/published/pythonds/AlgorithmAnalysis/Lists.html"
   ],
   "metadata": {}
  }
 ],
 "metadata": {
  "orig_nbformat": 4,
  "language_info": {
   "name": "python",
   "version": "3.9.7",
   "mimetype": "text/x-python",
   "codemirror_mode": {
    "name": "ipython",
    "version": 3
   },
   "pygments_lexer": "ipython3",
   "nbconvert_exporter": "python",
   "file_extension": ".py"
  },
  "kernelspec": {
   "name": "python3",
   "display_name": "Python 3.9.7 64-bit ('gpython': venv)"
  },
  "interpreter": {
   "hash": "5627720a6a616c0878b17d33cbab43a72e7217374c13d421da399f43d793f575"
  }
 },
 "nbformat": 4,
 "nbformat_minor": 2
}